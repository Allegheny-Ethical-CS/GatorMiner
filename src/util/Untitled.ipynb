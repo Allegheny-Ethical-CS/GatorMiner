{
 "cells": [
  {
   "cell_type": "code",
   "execution_count": 4,
   "metadata": {},
   "outputs": [
    {
     "data": {
      "text/plain": [
       "<streamlit.DeltaGenerator.DeltaGenerator at 0x10700c438>"
      ]
     },
     "execution_count": 4,
     "metadata": {},
     "output_type": "execute_result"
    }
   ],
   "source": [
    "#!/usr/bin/env python3\n",
    "\n",
    "import pandas as pd\n",
    "import numpy as np\n",
    "import altair as alt\n",
    "import streamlit as st\n",
    "\n",
    "df = pd.DataFrame(\n",
    "    np.random.randn(200,3),\n",
    "    columns=['a','b','c'])\n",
    "\n",
    "c = alt.Chart(df).mark_circle().encode(\n",
    "    x='a', y='b', size ='c', color='c')\n",
    "\n",
    "st.vega_lite_chart(df, {\n",
    "    'mark': 'circle',\n",
    "    'encoding': {\n",
    "        'x': {'field': 'a', 'type': 'quantitative'},\n",
    "        'y': {'field': 'b', 'type': 'quantitative'},\n",
    "        'size': {'field': 'c', 'type': 'quantitative'},\n",
    "        'color': {'field': 'c', 'type': 'quantitative'},\n",
    "    },\n",
    "})"
   ]
  },
  {
   "cell_type": "code",
   "execution_count": null,
   "metadata": {},
   "outputs": [],
   "source": []
  }
 ],
 "metadata": {
  "kernelspec": {
   "display_name": "Python 3",
   "language": "python",
   "name": "python3"
  },
  "language_info": {
   "codemirror_mode": {
    "name": "ipython",
    "version": 3
   },
   "file_extension": ".py",
   "mimetype": "text/x-python",
   "name": "python",
   "nbconvert_exporter": "python",
   "pygments_lexer": "ipython3",
   "version": "3.6.7"
  }
 },
 "nbformat": 4,
 "nbformat_minor": 4
}
